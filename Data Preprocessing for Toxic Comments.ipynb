{
 "cells": [
  {
   "cell_type": "markdown",
   "metadata": {},
   "source": [
    "# Tutoriel for pre-processing in the Toxic Comment challenge"
   ]
  },
  {
   "cell_type": "code",
   "execution_count": 57,
   "metadata": {},
   "outputs": [],
   "source": [
    "from tools import *\n",
    "\n",
    "import matplotlib.pyplot as plt\n",
    "from collections import Counter\n"
   ]
  },
  {
   "cell_type": "markdown",
   "metadata": {},
   "source": [
    "## Loading data"
   ]
  },
  {
   "cell_type": "code",
   "execution_count": 2,
   "metadata": {},
   "outputs": [
    {
     "name": "stdout",
     "output_type": "stream",
     "text": [
      "LOADING DATA\n"
     ]
    }
   ],
   "source": [
    "data_train, y_train, data_test, id_test = load_data()"
   ]
  },
  {
   "cell_type": "markdown",
   "metadata": {},
   "source": [
    "## Cleaning data"
   ]
  },
  {
   "cell_type": "code",
   "execution_count": 3,
   "metadata": {},
   "outputs": [
    {
     "name": "stdout",
     "output_type": "stream",
     "text": [
      "COMMENT BEFORE CLEANING: \n",
      " Explanation\n",
      "Why the edits made under my username Hardcore Metallica Fan were reverted? They weren't vandalisms, just closure on some GAs after I voted at New York Dolls FAC. And please don't remove the template from the talk page since I'm retired now.89.205.38.27\n",
      "-------\n",
      " Removing ip adresses, \\n, capitals, accents, stopwords ...\n",
      "COMMENT AFTER CLEANING: \n",
      " explanation edit make username hardcore metallica fan revert vandalisms closure gas vote new york dolls fac please remove template talk page since i m retire \n"
     ]
    }
   ],
   "source": [
    "comment = data_train[0]\n",
    "print('COMMENT BEFORE CLEANING: \\n {}'.format(comment))\n",
    "print('-------\\n Removing ip adresses, \\\\n, capitals, accents, stopwords ...')\n",
    "print('COMMENT AFTER CLEANING: \\n {}'.format(clean_comment(comment)))\n",
    "\n",
    "# Stopswords trop large ? dont a disparu, et avec lui le sens négatif de la phrase ..."
   ]
  },
  {
   "cell_type": "code",
   "execution_count": 7,
   "metadata": {},
   "outputs": [
    {
     "name": "stdout",
     "output_type": "stream",
     "text": [
      "Transformation: 0.0%\r",
      "Transformation: 10.0%\r",
      "Transformation: 20.0%\r",
      "Transformation: 30.0%\r",
      "Transformation: 40.0%\r",
      "Transformation: 50.0%\r",
      "Transformation: 60.0%\r",
      "Transformation: 70.0%\r",
      "Transformation: 80.0%\r",
      "Transformation: 90.0%\r"
     ]
    }
   ],
   "source": [
    "# Toy example, as it can be quite long\n",
    "transform_dtset = transform_dataset(data_train[:10], func=clean_comment)"
   ]
  },
  {
   "cell_type": "code",
   "execution_count": null,
   "metadata": {},
   "outputs": [],
   "source": []
  },
  {
   "cell_type": "markdown",
   "metadata": {},
   "source": [
    "## Encoding data"
   ]
  },
  {
   "cell_type": "code",
   "execution_count": 8,
   "metadata": {},
   "outputs": [
    {
     "ename": "NameError",
     "evalue": "name 'TokenVectorizer' is not defined",
     "output_type": "error",
     "traceback": [
      "\u001b[0;31m---------------------------------------------------------------------------\u001b[0m",
      "\u001b[0;31mNameError\u001b[0m                                 Traceback (most recent call last)",
      "\u001b[0;32m<ipython-input-8-a35421ebb630>\u001b[0m in \u001b[0;36m<module>\u001b[0;34m\u001b[0m\n\u001b[1;32m     33\u001b[0m \u001b[0;34m\u001b[0m\u001b[0m\n\u001b[1;32m     34\u001b[0m \u001b[0;31m## Tokenize the corpus, with only the 30000 most commons tokens, and pad the sentences to 200\u001b[0m\u001b[0;34m\u001b[0m\u001b[0;34m\u001b[0m\u001b[0m\n\u001b[0;32m---> 35\u001b[0;31m \u001b[0mtokens_vectorizer\u001b[0m \u001b[0;34m=\u001b[0m \u001b[0mTokenVectorizer\u001b[0m\u001b[0;34m(\u001b[0m\u001b[0mmax_len\u001b[0m\u001b[0;34m=\u001b[0m\u001b[0;36m200\u001b[0m\u001b[0;34m,\u001b[0m \u001b[0mmax_features\u001b[0m\u001b[0;34m=\u001b[0m\u001b[0;36m30000\u001b[0m\u001b[0;34m)\u001b[0m\u001b[0;34m\u001b[0m\u001b[0m\n\u001b[0m\u001b[1;32m     36\u001b[0m \u001b[0;34m\u001b[0m\u001b[0m\n",
      "\u001b[0;31mNameError\u001b[0m: name 'TokenVectorizer' is not defined"
     ]
    }
   ],
   "source": [
    "# -------\n",
    "### CBOW\n",
    "\n",
    "# Create a CBOW vectorizer for english words, without accent,\n",
    "## limiting the vocabulary to 30000 words max.\n",
    "\n",
    "count_vectorizer = CountVectorizer(analyzer='word', stop_words='english',\n",
    "                                   strip_accents='unicode', max_features=30000)\n",
    "\n",
    "# -------\n",
    "### Hash\n",
    "\n",
    "# Create a CBOW vectorizer for english words, without accent. No limit on vocab size\n",
    "\n",
    "hash_vectorizer = HashingVectorizer(analyzer='word', stop_words='english',\n",
    "                                     strip_accents='unicode')\n",
    "\n",
    "\n",
    "# --------\n",
    "### TFIDF\n",
    "\n",
    "# Create a TFIDF vectorizer for english words, (only unigrams), limiting the vocabulary to\n",
    "# 30000 words max.and filtering words with frequency under 10.\n",
    "## Remove accents, and using idf for filtering, with smoothing to avoid zero division\n",
    "\n",
    "tfidf_vectorizer = TfidfVectorizer(stop_words='english', analyzer='word', ngram_range=(1,1),\n",
    "                                   min_df=10, max_features=30000,\n",
    "                                   strip_accents='unicode', use_idf=1,smooth_idf=1,\n",
    "                                   sublinear_tf=1)\n",
    "\n",
    "# ------------\n",
    "### Tokenizer\n",
    "\n",
    "## Tokenize the corpus, with only the 30000 most commons tokens, and pad the sentences to 200\n",
    "tokens_vectorizer = TokenVectorizer(max_len=200, max_features=30000)\n",
    "\n"
   ]
  },
  {
   "cell_type": "code",
   "execution_count": null,
   "metadata": {},
   "outputs": [],
   "source": [
    "X_train, X_test = encode(data_train, data_test, vectorizer=count_vectorizer)\n",
    "\n",
    "# Vocabulary can be extracted from the vectorizer object (if tdidf or count)\n",
    "# print(count_vectorizer.get_feature_names())\n"
   ]
  },
  {
   "cell_type": "markdown",
   "metadata": {},
   "source": [
    "## Submitting data to .csv"
   ]
  },
  {
   "cell_type": "code",
   "execution_count": null,
   "metadata": {},
   "outputs": [],
   "source": [
    "# Toy prediction to test submission\n",
    "y_test = np.ones((len(data_test), y_train.shape[1]))\n",
    "\n",
    "\n",
    "submission(y_train, id_test, name='')"
   ]
  },
  {
   "cell_type": "markdown",
   "metadata": {},
   "source": [
    "## Visualising the dataset"
   ]
  },
  {
   "cell_type": "code",
   "execution_count": 52,
   "metadata": {},
   "outputs": [
    {
     "name": "stdout",
     "output_type": "stream",
     "text": [
      "(159571, 7)\n",
      "16225\n"
     ]
    }
   ],
   "source": [
    "y_train_binary = np.atleast_2d(np.sum(y_train, axis=1)).T\n",
    "y_train_binary[y_train_binary>0] = 1\n",
    "y_train_with_clean = np.concatenate((y_train_binary, y_train), axis=1)\n",
    "\n",
    "print(y_train_with_clean.shape)\n",
    "print(np.sum(y_train_binary))"
   ]
  },
  {
   "cell_type": "code",
   "execution_count": 55,
   "metadata": {},
   "outputs": [
    {
     "data": {
      "image/png": "[encoded data removed]",
      "text/plain": [
       "<Figure size 432x288 with 3 Axes>"
      ]
     },
     "metadata": {
      "needs_background": "light"
     },
     "output_type": "display_data"
    }
   ],
   "source": [
    "plt.figure()\n",
    "plt.tight_layout()\n",
    "plt.suptitle('Inbalance')\n",
    "plt.subplot(1, 3, 1)\n",
    "\n",
    "plt.title('clean/toxic')\n",
    "plt.bar(['toxic', 'clean'], [np.sum(y_train_binary), y_train_binary.shape[0]- np.sum(y_train_binary)])\n",
    "\n",
    "plt.subplot(1, 3, 2)\n",
    "\n",
    "plt.title('types of toxic')\n",
    "plt.bar(CLASSES, np.sum(y_train_with_clean[y_train_with_clean[:,0]==1, 1:], axis=0))\n",
    "\n",
    "plt.xticks(rotation=80)\n",
    "\n",
    "plt.subplot(1, 3, 3)\n",
    "\n",
    "plt.title('All classes')\n",
    "plt.bar(['clean'] + CLASSES, [y_train_binary.shape[0]- np.sum(y_train_binary)] +\\\n",
    "                             list(np.sum(y_train_with_clean[y_train_with_clean[:,0]==1, 1:], axis=0)))\n",
    "plt.xticks(rotation=80)\n",
    "\n",
    "plt.show()"
   ]
  },
  {
   "cell_type": "code",
   "execution_count": 63,
   "metadata": {},
   "outputs": [
    {
     "data": {
      "text/plain": [
       "<BarContainer object of 6 artists>"
      ]
     },
     "execution_count": 63,
     "metadata": {},
     "output_type": "execute_result"
    },
    {
     "data": {
      "image/png": "[encoded data removed]",
      "text/plain": [
       "<Figure size 432x288 with 1 Axes>"
      ]
     },
     "metadata": {
      "needs_background": "light"
     },
     "output_type": "display_data"
    }
   ],
   "source": [
    "# Look for multi tags samples\n",
    "count_multi_tags = Counter(np.sum(y_train, axis=1))\n",
    "\n",
    "len(count_multi_tags)\n",
    "\n",
    "plt.figure()\n",
    "plt.title('Number of (toxic) samples with multiples tags')\n",
    "\n",
    "plt.bar(list(count_multi_tags.keys())[1:], list(count_multi_tags.values())[1:])"
   ]
  },
  {
   "cell_type": "code",
   "execution_count": null,
   "metadata": {},
   "outputs": [],
   "source": [
    "corr_matrix = np.corrcoef(y_train_with_clean[:, y_train_])"
   ]
  }
 ],
 "metadata": {
  "kernelspec": {
   "display_name": "Python 3",
   "language": "python",
   "name": "python3"
  },
  "language_info": {
   "codemirror_mode": {
    "name": "ipython",
    "version": 3
   },
   "file_extension": ".py",
   "mimetype": "text/x-python",
   "name": "python",
   "nbconvert_exporter": "python",
   "pygments_lexer": "ipython3",
   "version": "3.5.2"
  }
 },
 "nbformat": 4,
 "nbformat_minor": 2
}
