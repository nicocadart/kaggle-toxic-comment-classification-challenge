{
 "cells": [
  {
   "cell_type": "markdown",
   "metadata": {},
   "source": [
    "## Chargement des données"
   ]
  },
  {
   "cell_type": "code",
   "execution_count": 1,
   "metadata": {},
   "outputs": [
    {
     "name": "stderr",
     "output_type": "stream",
     "text": [
      "Using TensorFlow backend.\n"
     ]
    }
   ],
   "source": [
    "import numpy as np\n",
    "import time\n",
    "\n",
    "from tools import *\n",
    "from embeddings import *\n",
    "from models import *"
   ]
  },
  {
   "cell_type": "code",
   "execution_count": 2,
   "metadata": {},
   "outputs": [],
   "source": [
    "# load raw string data\n",
    "data_train, y_train_all, data_test, id_test = load_data()"
   ]
  },
  {
   "cell_type": "markdown",
   "metadata": {},
   "source": [
    "## Model mix"
   ]
  },
  {
   "cell_type": "code",
   "execution_count": 7,
   "metadata": {},
   "outputs": [
    {
     "name": "stdout",
     "output_type": "stream",
     "text": [
      "Prediction score on vocab40000_length150_padPre_gloveTwitter200t_bigru80_bipool: 0.9942\n",
      "Prediction score on pooled-gru-fasttext_kernel_reformat: 0.9934\n",
      "Prediction score on clean_lower_vocab30000_length200_gloveTwitter200_YK100-345_globalmaxpool_no_fc: 0.9946\n",
      "Initial mix score: 0.9957\n",
      "Model mix prediction on train: 0.9957\n",
      "Optimal weights: [0.33333357 0.33333357 0.33333287]\n"
     ]
    }
   ],
   "source": [
    "#names = ['NBSVM_best_params_TFIDF',\n",
    "#           'XGB', \n",
    "#           'vocab40000_length150_padPre_gloveTwitter200t_bigru80_bipool',\n",
    "#           'pooled-gru-fasttext_kernel_reformat',\n",
    "#           'clean_lower_vocab30000_length200_gloveTwitter200_YK100-345_globalmaxpool_no_fc']\n",
    "names = ['vocab40000_length150_padPre_gloveTwitter200t_bigru80_bipool',\n",
    "          'pooled-gru-fasttext_kernel_reformat',\n",
    "          'clean_lower_vocab30000_length200_gloveTwitter200_YK100-345_globalmaxpool_no_fc']\n",
    "\n",
    "y_preds, y_preds_test = [], []\n",
    "\n",
    "# Load predictions (train and test)\n",
    "for n in names:\n",
    "    y_preds.append((n, load_pred(n)))\n",
    "    y_preds_test.append((n, load_pred(n + '_test')))\n",
    "\n",
    "# Compute best weights between models    \n",
    "opt_w = model_mix(y_preds, y_train_all)\n",
    "print('Optimal weights:', opt_w)\n",
    "# Compute prediction by mixing models according to optimal weights and submit the test results\n",
    "final_pred = model_mix_predict(y_preds_test, opt_w)\n",
    "submission(final_pred, id_test, 'model_mix_'+'_'.join(names))"
   ]
  },
  {
   "cell_type": "code",
   "execution_count": null,
   "metadata": {},
   "outputs": [],
   "source": []
  }
 ],
 "metadata": {
  "kernelspec": {
   "display_name": "Python 3",
   "language": "python",
   "name": "python3"
  },
  "language_info": {
   "codemirror_mode": {
    "name": "ipython",
    "version": 3
   },
   "file_extension": ".py",
   "mimetype": "text/x-python",
   "name": "python",
   "nbconvert_exporter": "python",
   "pygments_lexer": "ipython3",
   "version": "3.5.2"
  }
 },
 "nbformat": 4,
 "nbformat_minor": 2
}
